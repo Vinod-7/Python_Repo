{
 "cells": [
  {
   "cell_type": "code",
   "execution_count": 1,
   "id": "4ebd6827",
   "metadata": {},
   "outputs": [
    {
     "name": "stdout",
     "output_type": "stream",
     "text": [
      "hello\n"
     ]
    }
   ],
   "source": [
    "print(\"hello\")"
   ]
  },
  {
   "cell_type": "code",
   "execution_count": null,
   "id": "0779a1f0",
   "metadata": {},
   "outputs": [],
   "source": [
    "# data types in python\n",
    "#1.primitive data type (int,float,boolean,string,char)\n",
    "#2.non-primitive data type(list tuple,dict,set)\n",
    "#in pyhton every datatype is a class\n"
   ]
  },
  {
   "cell_type": "code",
   "execution_count": 7,
   "id": "91f817f8",
   "metadata": {},
   "outputs": [
    {
     "name": "stdout",
     "output_type": "stream",
     "text": [
      "10\n",
      "<class 'int'>\n",
      "140705581601864\n"
     ]
    }
   ],
   "source": [
    "a=10\n",
    "print(a)\n",
    "print(type(a))\n",
    "print(id(a))\n",
    "# type(),id() are the predefined functions\n",
    "\n",
    "b=10"
   ]
  },
  {
   "cell_type": "code",
   "execution_count": 24,
   "id": "a121fd76",
   "metadata": {},
   "outputs": [
    {
     "name": "stdout",
     "output_type": "stream",
     "text": [
      "73\n",
      "342391\n",
      "2703471164\n",
      "<class 'int'>\n",
      "<class 'int'>\n",
      "<class 'int'>\n",
      "0b11001\n",
      "0o31\n",
      "0x19\n"
     ]
    }
   ],
   "source": [
    "#binary,octal,hexadecimal\n",
    "binary=0b1001001\n",
    "octal=0o1234567\n",
    "hexa=0xa123b23c\n",
    "print(binary)\n",
    "print(octal)\n",
    "print(hexa)\n",
    "print(type(binary))\n",
    "print(type(octal))\n",
    "print(type(hexa))\n",
    "\n",
    "# type conversion\n",
    "num=25\n",
    "print(bin(num))\n",
    "print(oct(num))\n",
    "print(hex(num))"
   ]
  },
  {
   "cell_type": "code",
   "execution_count": 3,
   "id": "d1bc95ed",
   "metadata": {},
   "outputs": [
    {
     "name": "stdout",
     "output_type": "stream",
     "text": [
      "True\n"
     ]
    }
   ],
   "source": [
    "# True = 100\n",
    "print(True)"
   ]
  },
  {
   "cell_type": "code",
   "execution_count": 5,
   "id": "1221883a",
   "metadata": {},
   "outputs": [
    {
     "name": "stdout",
     "output_type": "stream",
     "text": [
      "100\n",
      "vinod\n"
     ]
    }
   ],
   "source": [
    "student_name=100\n",
    "print(student_name)\n",
    "student_Name=\"vinod\"\n",
    "print(student_Name)"
   ]
  },
  {
   "cell_type": "code",
   "execution_count": 17,
   "id": "855f17f4",
   "metadata": {},
   "outputs": [
    {
     "name": "stdout",
     "output_type": "stream",
     "text": [
      "good morning\n",
      "welcome to python\n",
      "30\n",
      "<class 'str'>\n",
      "python\n",
      "6\n",
      "p\n",
      "y\n",
      "t\n",
      "h\n",
      "o\n",
      "n\n"
     ]
    }
   ],
   "source": [
    "#strings -->sequence of characters (OR) collection of characters\n",
    "g='''good morning\n",
    "welcome to python'''\n",
    "#iterable the string\n",
    "#string is immutable\n",
    "#indexing is allow for string\n",
    "\n",
    "'''multi line coomenting'''\n",
    "print(g)\n",
    "print(len(g))\n",
    "print(type(g))\n",
    "#length function in string\n",
    "n=\"python\"\n",
    "print(n)\n",
    "print(len(n))\n",
    "print(n[0])\n",
    "print(n[1])\n",
    "print(n[2])\n",
    "print(n[3])\n",
    "print(n[4])\n",
    "print(n[5])"
   ]
  },
  {
   "cell_type": "code",
   "execution_count": 20,
   "id": "411b6d0a",
   "metadata": {},
   "outputs": [
    {
     "name": "stdout",
     "output_type": "stream",
     "text": [
      "<class 'float'>\n",
      "1666842072624\n",
      "30.0\n",
      "<class 'float'>\n",
      "1666842072304\n"
     ]
    }
   ],
   "source": [
    "#float datatype\n",
    "n=1.2\n",
    "print(type(n))\n",
    "print(id(n))\n",
    "\n",
    "num=3e1\n",
    "print(num)\n",
    "print(type(num))\n",
    "print(id(num))"
   ]
  },
  {
   "cell_type": "code",
   "execution_count": 20,
   "id": "d62198ef",
   "metadata": {},
   "outputs": [
    {
     "name": "stdout",
     "output_type": "stream",
     "text": [
      "True\n",
      "False\n",
      "1\n",
      "0\n"
     ]
    }
   ],
   "source": [
    "#boolean datatype\n",
    "p1=100\n",
    "p2=200\n",
    "res1=p1<p2\n",
    "print(res1)\n",
    "res2=p2<p1\n",
    "print(res2)\n",
    "\n",
    "print(int(True))\n",
    "print(int(False))"
   ]
  },
  {
   "cell_type": "code",
   "execution_count": 4,
   "id": "293a84a0",
   "metadata": {},
   "outputs": [
    {
     "name": "stdout",
     "output_type": "stream",
     "text": [
      "<class 'complex'>\n",
      "(2+3j)\n",
      "2.0\n",
      "3.0\n",
      "-3.0\n",
      "<class 'complex'>\n",
      "0.0\n",
      "3.0\n",
      "3j\n"
     ]
    }
   ],
   "source": [
    "#complex datatype --> it contains two parts 1)real part & 2)imaginary part\n",
    "v=2+3j\n",
    "print(type(v))\n",
    "print(v)\n",
    "print(v.real)\n",
    "print(v.imag)\n",
    "h=2-3j #j=1\n",
    "print(h.imag)\n",
    "print(type(h))\n",
    "k=3j\n",
    "print(k.real)\n",
    "print(k.imag)\n",
    "print(k)"
   ]
  },
  {
   "cell_type": "code",
   "execution_count": 35,
   "id": "5b387d0a",
   "metadata": {},
   "outputs": [
    {
     "name": "stdout",
     "output_type": "stream",
     "text": [
      "data type is:  <class 'list'>\n",
      "address is: 2691559942528\n",
      "<class 'str'>\n",
      "300.0\n",
      "vinod\n",
      "[]\n",
      "[100]\n",
      "length is : 11\n",
      "2\n",
      "2\n",
      "2\n",
      "2\n",
      "1\n",
      "2\n",
      "2\n",
      "3\n",
      "2\n",
      "1\n",
      "1\n"
     ]
    }
   ],
   "source": [
    "#non-primitive---->list datatype\n",
    "list1=[1,2,\"vinod\",3,True,\"kumar\",3e2,\"vinod\"]\n",
    "print('data type is: ',type(list1))\n",
    "print('address is:',id(list1))\n",
    "print(type(list1[2]))\n",
    "print(list1[6])\n",
    "print(list1[2])\n",
    "v=list()\n",
    "print(v)\n",
    "v.append(100)\n",
    "print(v)\n",
    "k=[1,2,2,1,3,2,1,4,5,6,6]\n",
    "print('length is :',len(k))\n",
    "#for loop\n",
    "for x in k:\n",
    "    print(k[x])"
   ]
  },
  {
   "cell_type": "code",
   "execution_count": 36,
   "id": "e9b724a1",
   "metadata": {},
   "outputs": [
    {
     "name": "stdout",
     "output_type": "stream",
     "text": [
      "type of r is:  <class 'tuple'>\n",
      "id:  2691560132032\n",
      "(1, 2)\n",
      "<class 'tuple'>\n",
      "vinod\n",
      "type of v:  <class 'tuple'>\n",
      "length of v: 6\n",
      "(10, True, 2, 'vinnu', (2+3j), 30.0)\n"
     ]
    }
   ],
   "source": [
    "#non-primitive datatype---> tuple\n",
    "import time\n",
    "r=(1,2)\n",
    "print('type of r is: ',type(r))\n",
    "print('id: ',id(r))\n",
    "time.sleep(1)\n",
    "print(r)\n",
    "t=2,\n",
    "print(type(t))\n",
    "res=([1,2,\"vinod\"],)\n",
    "print((res[0][2]))\n",
    "v=10,True,2,'vinnu',2+3j,3e1\n",
    "print('type of v: ',type(v))\n",
    "print('length of v:',len(v))\n",
    "#v.append(100) -->tuple is immutable\n",
    "print(v)"
   ]
  },
  {
   "cell_type": "code",
   "execution_count": 46,
   "id": "0467a9f4",
   "metadata": {},
   "outputs": [
    {
     "name": "stdout",
     "output_type": "stream",
     "text": [
      "{1, 2.3, 3.12, 'python', 11}\n",
      "<class 'set'>\n",
      "5\n"
     ]
    }
   ],
   "source": [
    "#set --> non primitive data type\n",
    "r={1,'python',3.12,2.3,1,11,1,1,1,1,1}\n",
    "print((r))\n",
    "print(type(r))\n",
    "print(len(r))\n",
    "#for x in r:\n",
    "   # print(r[x])"
   ]
  },
  {
   "cell_type": "code",
   "execution_count": 3,
   "id": "acf5e417",
   "metadata": {},
   "outputs": [
    {
     "name": "stdout",
     "output_type": "stream",
     "text": [
      "<class 'list'>\n",
      "5\n",
      "vinod\n",
      "sai\n",
      "10k coders\n",
      "python\n",
      "fullstack\n"
     ]
    }
   ],
   "source": [
    "fire=[\"vinod\",\"sai\",\"10k coders\",\"python\",\"fullstack\"]\n",
    "import time\n",
    "print(type(fire))\n",
    "print(len(fire))\n",
    "#print(fire[0])\n",
    "for x in fire:\n",
    "    print(x)\n",
    "    time.sleep(2)"
   ]
  },
  {
   "cell_type": "code",
   "execution_count": 21,
   "id": "68fc8768",
   "metadata": {},
   "outputs": [
    {
     "name": "stdout",
     "output_type": "stream",
     "text": [
      "<class 'dict'>\n",
      "<class 'dict'>\n",
      "vinod\n",
      "5\n",
      "{'name': 'vinod', 'mobile': 9347768925, 'age': 21, 1: 10, 2: 20, 3: 30}\n",
      "6\n",
      "{'name': 'vinnu', 'mobile': 9347768925, 1: 10, 2: 20, 3: 30}\n",
      "9129192736\n",
      "kitsw boys\n"
     ]
    }
   ],
   "source": [
    "#Dictionay datatype---->\n",
    "t=dict()\n",
    "print(type(t))\n",
    "tt={}\n",
    "print(type(tt))\n",
    "v={\n",
    "    'name':\"ajay\",\"mobile\":9347768925,\"age\":21,'name':\"vinod\",\n",
    "    1:10,2:20,3:30\n",
    "}\n",
    "print(v['name'])\n",
    "print(len(v['name']))\n",
    "time.sleep(2)\n",
    "print(v)\n",
    "print(len(v))\n",
    "v.pop('age')\n",
    "v['name']=\"vinnu\"\n",
    "print(v)\n",
    "#nested dictionay is allowed\n",
    "r={'ajay':{'office':9129192736,'home':89767689878},'vinod':{'clg':\"nope\",'hostel':\"kitsw boys\"}}\n",
    "print(r['ajay']['office'])\n",
    "print(r['vinod']['hostel'])\n"
   ]
  },
  {
   "cell_type": "code",
   "execution_count": null,
   "id": "6af543d6",
   "metadata": {},
   "outputs": [],
   "source": []
  }
 ],
 "metadata": {
  "kernelspec": {
   "display_name": "Python 3 (ipykernel)",
   "language": "python",
   "name": "python3"
  },
  "language_info": {
   "codemirror_mode": {
    "name": "ipython",
    "version": 3
   },
   "file_extension": ".py",
   "mimetype": "text/x-python",
   "name": "python",
   "nbconvert_exporter": "python",
   "pygments_lexer": "ipython3",
   "version": "3.11.3"
  }
 },
 "nbformat": 4,
 "nbformat_minor": 5
}
