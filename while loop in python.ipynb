{
 "cells": [
  {
   "cell_type": "code",
   "execution_count": null,
   "id": "e76e2bc4",
   "metadata": {},
   "outputs": [],
   "source": [
    "#while loops in python\n",
    "a=-1\n",
    "while a>=-10:\n",
    "    print(a)\n",
    "    a-=1"
   ]
  },
  {
   "cell_type": "code",
   "execution_count": null,
   "id": "a3939bd0",
   "metadata": {},
   "outputs": [],
   "source": [
    "a=1\n",
    "summ=0\n",
    "while a<=10:\n",
    "    summ+=a\n",
    "    a+=1\n",
    "print(summ)"
   ]
  },
  {
   "cell_type": "code",
   "execution_count": null,
   "id": "e0392b97",
   "metadata": {},
   "outputs": [],
   "source": [
    "n=10\n",
    "a=1\n",
    "while a<=n:\n",
    "    if a%2!=0:\n",
    "        print(a)\n",
    "    a+=1"
   ]
  },
  {
   "cell_type": "code",
   "execution_count": null,
   "id": "891b807b",
   "metadata": {},
   "outputs": [],
   "source": [
    "#Palindrome\n",
    "n=int(input(\"Enter a number: \"))\n",
    "org=n\n",
    "s=0\n",
    "while n>0:\n",
    "    rem=n%10\n",
    "    s=s*10+rem\n",
    "    n=n//10\n",
    "if (org==s):\n",
    "    print(\"palindrome\")\n",
    "else:\n",
    "    print(\"no a palindrome\")\n"
   ]
  },
  {
   "cell_type": "code",
   "execution_count": null,
   "id": "3bdaa3d2",
   "metadata": {},
   "outputs": [],
   "source": [
    "#String palindrome\n",
    "m=\"python\"\n",
    "g=''"
   ]
  },
  {
   "cell_type": "code",
   "execution_count": null,
   "id": "c935bb25",
   "metadata": {},
   "outputs": [],
   "source": [
    "\n",
    "\n",
    "# Print all the factors of a given number N.\n",
    "\n",
    "# Find the factorial of a given number N.\n",
    "\n",
    "\n"
   ]
  },
  {
   "cell_type": "code",
   "execution_count": null,
   "id": "69c8bcc4",
   "metadata": {},
   "outputs": [],
   "source": [
    "#factorial\n",
    "pro=1\n",
    "n=int(input(\"product of number Range: \"))\n",
    "for i in range(1,n+1):\n",
    "    pro=pro*i\n",
    "print(f\"Product is (OR) Factorial of {n} = \",pro)"
   ]
  },
  {
   "cell_type": "code",
   "execution_count": null,
   "id": "b2f950b7",
   "metadata": {},
   "outputs": [],
   "source": [
    "# Factors\n",
    "n=int(input(\"Enter Range: \"))\n",
    "# a=1\n",
    "# while n>0:\n",
    "#     if n%a==0:\n",
    "#         print(a)\n",
    "#     a+=1\n",
    "# n=int(input(\"Range: \"))\n",
    "print(f\"Factors of {n}: \")\n",
    "for i in range(1,n):\n",
    "    if n%i==0:\n",
    "        print(i)\n",
    "    "
   ]
  },
  {
   "cell_type": "code",
   "execution_count": null,
   "id": "f341e797",
   "metadata": {},
   "outputs": [],
   "source": [
    "# # Count the number of digits in a given integer N.\n",
    "n=int(input(\"Enetr Number: \"))\n",
    "digits=len(str(n))\n",
    "print(digits)\n",
    "\n",
    "a=0\n",
    "while n>0:\n",
    "    n=n//10\n",
    "    a+=1\n",
    "print(a)\n",
    "    "
   ]
  },
  {
   "cell_type": "code",
   "execution_count": 2,
   "id": "402f4283",
   "metadata": {},
   "outputs": [
    {
     "name": "stdout",
     "output_type": "stream",
     "text": [
      "123\n",
      "Not an Armstrong\n"
     ]
    }
   ],
   "source": [
    "# Check whether a given number is an Armstrong number.\n",
    "n=int(input())\n",
    "org=n\n",
    "digit=len(str(n))\n",
    "s=0\n",
    "while n>0:\n",
    "    rem=n%10\n",
    "    s=s+rem**digit\n",
    "    n=n//10\n",
    "if (org==s):\n",
    "    print(\"Armstrong\")\n",
    "else:\n",
    "    print(\"Not an Armstrong\")"
   ]
  },
  {
   "cell_type": "code",
   "execution_count": null,
   "id": "0f55bdde",
   "metadata": {},
   "outputs": [],
   "source": [
    "#fibonacci series\n",
    "a,b=0,1\n",
    "print(a)\n",
    "for i in range(1,5):\n",
    "    a,b=b,a+b\n",
    "    print(a)"
   ]
  },
  {
   "cell_type": "code",
   "execution_count": null,
   "id": "a2af01b9",
   "metadata": {},
   "outputs": [],
   "source": [
    "#Factors//----------->Perfect number\n",
    "n=int(input(\"Enter Number: \"))\n",
    "s=0\n",
    "org=n\n",
    "for i in range(1,n):\n",
    "    if n%i==0:\n",
    "        print(i)\n",
    "        s+=i\n",
    "print(\"Sum: \",s)\n",
    "if s==org:\n",
    "    print(\"perfect\")\n",
    "else:\n",
    "    print(\"Not a perfect\")"
   ]
  },
  {
   "cell_type": "code",
   "execution_count": null,
   "id": "21c0c758",
   "metadata": {},
   "outputs": [],
   "source": [
    "#prime numbers\n",
    "import math\n",
    "def is_prime(n):\n",
    "    if n<=1:\n",
    "        return False\n",
    "    elif n==2:\n",
    "        return True\n",
    "    else:\n",
    "        for i in range(2,int(math.sqrt(n))+1):\n",
    "            if n%i==0:\n",
    "                return False\n",
    "        return True\n",
    "n=int(input(\"Enput a Number : \"))\n",
    "res= is_prime(n)\n",
    "if res:\n",
    "    print(\"yes\")\n",
    "else:\n",
    "    print(\"No\")"
   ]
  },
  {
   "cell_type": "code",
   "execution_count": null,
   "id": "8bb34e13",
   "metadata": {},
   "outputs": [],
   "source": [
    "# 1) Write a Python program to find the sum of prime digits in a given number.\n",
    "\n",
    "# Example: n = 35271 → prime digits are 3, 5, 7 → sum = 15.\n",
    "import math\n",
    "def is_prime(n):\n",
    "    if n<=1:\n",
    "        return False\n",
    "    elif n==2:\n",
    "        return True\n",
    "    else:\n",
    "        for i in range(2,int(math.sqrt(n))+1):\n",
    "            if n%i==0:\n",
    "                return False\n",
    "    return True\n",
    "n=int(input(\"Enter Number: \"))\n",
    "sp=0\n",
    "while n>0:\n",
    "    rem=n%10\n",
    "    if is_prime(rem):\n",
    "        sp+=rem\n",
    "    n=n//10\n",
    "print(\"Sum of primes digits in number: \",sp)"
   ]
  },
  {
   "cell_type": "code",
   "execution_count": null,
   "id": "063106e8",
   "metadata": {},
   "outputs": [],
   "source": [
    "n=int(input(\"Enter a number: \"))\n",
    "se=0\n",
    "so=0\n",
    "for i in range(1,n):\n",
    "    if n%i==0:\n",
    "        if i%2==0:\n",
    "            se+=i\n",
    "        else:\n",
    "            so+=i\n",
    "print(\"even Factors sum \",se)\n",
    "print(\"Odd Factros sum \",so)"
   ]
  },
  {
   "cell_type": "code",
   "execution_count": 1,
   "id": "76985068",
   "metadata": {},
   "outputs": [
    {
     "name": "stdout",
     "output_type": "stream",
     "text": [
      "Enter a number: 234566\n",
      "Even Number Sum:  18\n"
     ]
    }
   ],
   "source": [
    "# 2) Write a Python program to calculate the sum of even digits in a given number.\n",
    "\n",
    "# Example: n = 48269 → even digits are 4, 8, 2, 6 → sum = 20.\n",
    "\n",
    "n=int(input(\"Enter a number: \"))\n",
    "se=0\n",
    "while n>0:\n",
    "    rem=n%10\n",
    "    if rem%2==0:\n",
    "        se+=rem\n",
    "    n=n//10\n",
    "print(\"Even Number Sum: \",se)"
   ]
  },
  {
   "cell_type": "code",
   "execution_count": null,
   "id": "dd3d27e4",
   "metadata": {},
   "outputs": [],
   "source": [
    "n=int(input(\"Enter a Number: \"))\n",
    "s=0\n",
    "while n>0:\n",
    "    rem=n%10\n",
    "    digit=n//10\n",
    "    count=0\n",
    "    for i in range(1,rem+1):\n",
    "        if rem%i==0:\n",
    "            count+=1\n",
    "        if count==2:\n",
    "            s+=rem\n",
    "print(s)"
   ]
  },
  {
   "cell_type": "code",
   "execution_count": null,
   "id": "3e7ff184",
   "metadata": {},
   "outputs": [],
   "source": []
  }
 ],
 "metadata": {
  "kernelspec": {
   "display_name": "Python 3 (ipykernel)",
   "language": "python",
   "name": "python3"
  },
  "language_info": {
   "codemirror_mode": {
    "name": "ipython",
    "version": 3
   },
   "file_extension": ".py",
   "mimetype": "text/x-python",
   "name": "python",
   "nbconvert_exporter": "python",
   "pygments_lexer": "ipython3",
   "version": "3.11.3"
  }
 },
 "nbformat": 4,
 "nbformat_minor": 5
}
