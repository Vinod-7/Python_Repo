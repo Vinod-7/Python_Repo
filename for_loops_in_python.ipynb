{
 "cells": [
  {
   "cell_type": "code",
   "execution_count": 3,
   "id": "1d1f1f28",
   "metadata": {},
   "outputs": [
    {
     "name": "stdout",
     "output_type": "stream",
     "text": [
      "good morning\n",
      "good morning\n",
      "good morning\n",
      "good morning\n",
      "good morning\n"
     ]
    }
   ],
   "source": [
    "#iterative statements in python\n",
    "for x in range(5,10):\n",
    "    print(\"good morning\")"
   ]
  },
  {
   "cell_type": "code",
   "execution_count": 7,
   "id": "4b1b0ecf",
   "metadata": {},
   "outputs": [
    {
     "name": "stdout",
     "output_type": "stream",
     "text": [
      "100\n",
      "vinod\n",
      "kumar\n",
      "200\n",
      "20\n",
      "bhukya\n"
     ]
    }
   ],
   "source": [
    "a=[100,\"vinod\",\"kumar\",200,20,\"bhukya\"] #list\n",
    "for i in a:\n",
    "    print(i)"
   ]
  },
  {
   "cell_type": "code",
   "execution_count": 7,
   "id": "62215928",
   "metadata": {},
   "outputs": [
    {
     "name": "stdout",
     "output_type": "stream",
     "text": [
      "0 == P\n",
      "1 == y\n",
      "2 == t\n",
      "3 == h\n",
      "4 == o\n",
      "5 == n\n"
     ]
    }
   ],
   "source": [
    "#for loops in strings\n",
    "s=\"Python\"\n",
    "for i in range(len(s)):\n",
    "    print(i,\"==\",s[i])"
   ]
  },
  {
   "cell_type": "code",
   "execution_count": 2,
   "id": "29f36346",
   "metadata": {},
   "outputs": [
    {
     "name": "stdout",
     "output_type": "stream",
     "text": [
      "0\n",
      "-1\n",
      "-2\n",
      "-3\n",
      "-4\n",
      "-5\n",
      "-6\n",
      "-7\n",
      "-8\n",
      "-9\n"
     ]
    }
   ],
   "source": [
    "#for loops in numbers      ->range\n",
    "# for i in range(Start,end-1)\n",
    "for i in range(0,-10,-1):\n",
    "    if i%1==0:\n",
    "        print(i)"
   ]
  },
  {
   "cell_type": "code",
   "execution_count": 18,
   "id": "7f4ab9ce",
   "metadata": {},
   "outputs": [
    {
     "name": "stdout",
     "output_type": "stream",
     "text": [
      "65\n"
     ]
    }
   ],
   "source": [
    "print(ord('A'))\n"
   ]
  },
  {
   "cell_type": "code",
   "execution_count": 28,
   "id": "50019499",
   "metadata": {},
   "outputs": [
    {
     "name": "stdout",
     "output_type": "stream",
     "text": [
      "65\n",
      "66\n",
      "67\n"
     ]
    }
   ],
   "source": [
    "for i in range(ord('A'),ord('D')):\n",
    "        print(i)"
   ]
  },
  {
   "cell_type": "code",
   "execution_count": 2,
   "id": "75fbbc8e",
   "metadata": {},
   "outputs": [
    {
     "name": "stdout",
     "output_type": "stream",
     "text": [
      "1\n",
      "2\n",
      "3\n",
      "4\n",
      "5\n",
      "6\n",
      "7\n",
      "8\n",
      "9\n",
      "10\n"
     ]
    }
   ],
   "source": [
    "for i in range(1,11):\n",
    "    print(i)"
   ]
  },
  {
   "cell_type": "code",
   "execution_count": 4,
   "id": "5f9c1aff",
   "metadata": {},
   "outputs": [
    {
     "name": "stdout",
     "output_type": "stream",
     "text": [
      "n value: 20\n",
      "Even numbers are: \n",
      "2\n",
      "4\n",
      "6\n",
      "8\n",
      "10\n",
      "12\n",
      "14\n",
      "16\n",
      "18\n",
      "20\n"
     ]
    }
   ],
   "source": [
    "n=int(input(\"n value: \"))\n",
    "print(\"Even numbers are: \")\n",
    "for i in range(2,n+1,2):\n",
    "    print(i)\n"
   ]
  },
  {
   "cell_type": "code",
   "execution_count": 5,
   "id": "66139999",
   "metadata": {},
   "outputs": [
    {
     "name": "stdout",
     "output_type": "stream",
     "text": [
      "n value: 20\n",
      "Odd numbers are: \n",
      "1\n",
      "3\n",
      "5\n",
      "7\n",
      "9\n",
      "11\n",
      "13\n",
      "15\n",
      "17\n",
      "19\n"
     ]
    }
   ],
   "source": [
    "n=int(input(\"n value: \"))\n",
    "print(\"Odd numbers are: \")\n",
    "for i in range(1,n+1,2):\n",
    "    print(i)"
   ]
  },
  {
   "cell_type": "code",
   "execution_count": 3,
   "id": "b9d53148",
   "metadata": {},
   "outputs": [
    {
     "name": "stdout",
     "output_type": "stream",
     "text": [
      "n value: 10\n",
      "10\n",
      "9\n",
      "8\n",
      "7\n",
      "6\n",
      "5\n",
      "4\n",
      "3\n",
      "2\n",
      "1\n"
     ]
    }
   ],
   "source": [
    "n=int(input(\"n value: \"))\n",
    "for i in range(n,0,-1):\n",
    "    print(i)"
   ]
  },
  {
   "cell_type": "code",
   "execution_count": 9,
   "id": "69a12952",
   "metadata": {},
   "outputs": [
    {
     "name": "stdout",
     "output_type": "stream",
     "text": [
      "n value: 10\n",
      "Square of 1:  1\n",
      "Square of 2:  4\n",
      "Square of 3:  9\n",
      "Square of 4:  16\n",
      "Square of 5:  25\n",
      "Square of 6:  36\n",
      "Square of 7:  49\n",
      "Square of 8:  64\n",
      "Square of 9:  81\n",
      "Square of 10:  100\n"
     ]
    }
   ],
   "source": [
    "n=int(input(\"n value: \"))\n",
    "sum=0\n",
    "for i in range(1,n+1):\n",
    "    sum=sum+(i**2)\n",
    "    print(f'Square of {i}: ',i**2)\n",
    "# print(\"sum of squares : \",sum)"
   ]
  },
  {
   "cell_type": "code",
   "execution_count": 10,
   "id": "0f701f68",
   "metadata": {},
   "outputs": [
    {
     "name": "stdout",
     "output_type": "stream",
     "text": [
      "n value: 3\n",
      "cube of 1:  1\n",
      "cube of 2:  8\n",
      "cube of 3:  27\n",
      "sum is:  36\n"
     ]
    }
   ],
   "source": [
    "n=int(input(\"n value: \"))\n",
    "sum=0\n",
    "for i in range(1,n+1):\n",
    "    sum=sum+(i**3)\n",
    "    print(f'cube of {i}: ',i**3)\n",
    "print(\"sum is: \",sum)"
   ]
  },
  {
   "cell_type": "code",
   "execution_count": 6,
   "id": "9bd3a600",
   "metadata": {},
   "outputs": [
    {
     "name": "stdout",
     "output_type": "stream",
     "text": [
      "5\n",
      "Table of 5: \n",
      "5  x  1  =  5\n",
      "5  x  2  =  10\n",
      "5  x  3  =  15\n",
      "5  x  4  =  20\n",
      "5  x  5  =  25\n",
      "5  x  6  =  30\n",
      "5  x  7  =  35\n",
      "5  x  8  =  40\n",
      "5  x  9  =  45\n",
      "5  x  10  =  50\n"
     ]
    }
   ],
   "source": [
    "n=int(input())\n",
    "print(f\"Table of {n}: \" )\n",
    "for i in range(1,11):\n",
    "    print(n,\" x \",i,\" = \",n*i)"
   ]
  },
  {
   "cell_type": "code",
   "execution_count": 8,
   "id": "50f12e45",
   "metadata": {},
   "outputs": [
    {
     "name": "stdout",
     "output_type": "stream",
     "text": [
      "Enter range: 10\n",
      "Sum is :  55\n"
     ]
    }
   ],
   "source": [
    "n=int(input(\"Enter range: \"))\n",
    "sum=0\n",
    "for i in range(1,n+1):\n",
    "    sum+=i\n",
    "print(\"Sum is : \",sum)"
   ]
  },
  {
   "cell_type": "code",
   "execution_count": 21,
   "id": "501929cf",
   "metadata": {},
   "outputs": [
    {
     "name": "stdout",
     "output_type": "stream",
     "text": [
      "product of number Range: 5\n",
      "Product is (OR) Factorial of 5 :  120\n"
     ]
    }
   ],
   "source": [
    "pro=1\n",
    "n=int(input(\"product of number Range: \"))\n",
    "for i in range(1,n+1):\n",
    "    pro=pro*i\n",
    "print(f\"Product is (OR) Factorial of {n} = \",pro)"
   ]
  },
  {
   "cell_type": "code",
   "execution_count": 24,
   "id": "c8b28840",
   "metadata": {},
   "outputs": [
    {
     "name": "stdout",
     "output_type": "stream",
     "text": [
      "Enter range: 100\n",
      "Multiple Number: 10\n",
      "Multiples of 10 upto 100 is : \n",
      "10\n",
      "20\n",
      "30\n",
      "40\n",
      "50\n",
      "60\n",
      "70\n",
      "80\n",
      "90\n",
      "100\n"
     ]
    }
   ],
   "source": [
    "n=int(input(\"Enter range: \"))\n",
    "m=int(input(\"Multiple Number: \"))\n",
    "print(f\"Multiples of {m} upto {n} is : \")\n",
    "for i in range(1,n+1):\n",
    "    if i%m==0:\n",
    "        print(i)\n",
    "    "
   ]
  },
  {
   "cell_type": "code",
   "execution_count": 19,
   "id": "86737e08",
   "metadata": {},
   "outputs": [
    {
     "name": "stdout",
     "output_type": "stream",
     "text": [
      "Enter range: 20\n",
      "Multiple Number1: 3\n",
      "Multiple Number2: 5\n",
      "Multiples of 3 and 5 upto 20 is : \n",
      "15\n"
     ]
    }
   ],
   "source": [
    "n=int(input(\"Enter range: \"))\n",
    "m1=int(input(\"Multiple Number1: \"))\n",
    "m2=int(input(\"Multiple Number2: \"))\n",
    "print(f\"Multiples of {m1} and {m2} upto {n} is : \")\n",
    "for i in range(1,n+1):\n",
    "    if i%m1==0 and i%m2==0:\n",
    "        print(i)"
   ]
  },
  {
   "cell_type": "code",
   "execution_count": 7,
   "id": "2a05068f",
   "metadata": {},
   "outputs": [
    {
     "name": "stdout",
     "output_type": "stream",
     "text": [
      "Enter range: 50\n",
      "Multiple Number1: 5\n",
      "Multiple Number2: 10\n",
      "Multiples of 5 and 10 upto 50 is : \n",
      "5\n",
      "15\n",
      "25\n",
      "35\n",
      "45\n"
     ]
    }
   ],
   "source": [
    "n=int(input(\"Enter range: \"))\n",
    "m1=int(input(\"Multiple Number1: \"))\n",
    "m2=int(input(\"Multiple Number2: \"))\n",
    "print(f\"Multiples of {m1} and {m2} upto {n} is : \")\n",
    "for i in range(1,n+1):\n",
    "    if i%m1==0 and i%m2!=0:\n",
    "        print(i)"
   ]
  },
  {
   "cell_type": "code",
   "execution_count": 15,
   "id": "bc750961",
   "metadata": {},
   "outputs": [
    {
     "name": "stdout",
     "output_type": "stream",
     "text": [
      "4\n",
      "4\n",
      "9\n"
     ]
    }
   ],
   "source": [
    "# \n",
    "f=[\"vinod\",\"kumar\",\"100\",\"200\"]\n",
    "count=0\n",
    "for i in f:\n",
    "    count+=1\n",
    "print(count)\n",
    "print(len(f))\n",
    "\n",
    "count1=0\n",
    "h=\"developer\"\n",
    "for i in h:\n",
    "    count1+=1\n",
    "print(count1)"
   ]
  },
  {
   "cell_type": "code",
   "execution_count": 1,
   "id": "711e7a81",
   "metadata": {},
   "outputs": [
    {
     "name": "stdout",
     "output_type": "stream",
     "text": [
      "Number: 10\n",
      "Factors of 10: \n",
      "1\n",
      "2\n",
      "5\n"
     ]
    }
   ],
   "source": [
    "#factors\n",
    "n=int(input(\"Number: \"))\n",
    "print(f\"Factors of {n}: \")\n",
    "for i in range(1,n):\n",
    "    if n%i==0:\n",
    "        print(i)"
   ]
  },
  {
   "cell_type": "code",
   "execution_count": 29,
   "id": "6d06c9cf",
   "metadata": {},
   "outputs": [
    {
     "name": "stdout",
     "output_type": "stream",
     "text": [
      "3\n",
      "153\n",
      "Armstrong.\n"
     ]
    }
   ],
   "source": [
    "#armstrong\n",
    "n=153\n",
    "org=n\n",
    "digit=len(str(n))\n",
    "print(digit)\n",
    "summ=0\n",
    "while n>0:\n",
    "    rem=n%10\n",
    "    summ=summ+rem**digit\n",
    "    n=n//10\n",
    "print(summ)\n",
    "if summ==org:\n",
    "    print(\"Armstrong.\")\n",
    "else:\n",
    "    print(\"Not a Armstrong.\")"
   ]
  },
  {
   "cell_type": "code",
   "execution_count": 35,
   "id": "bc1d187a",
   "metadata": {},
   "outputs": [
    {
     "name": "stdout",
     "output_type": "stream",
     "text": [
      "10\n",
      "9\n",
      "8\n",
      "7\n",
      "6\n",
      "5\n",
      "4\n",
      "3\n",
      "2\n",
      "1\n"
     ]
    }
   ],
   "source": [
    "# for i in range(-10,0,1):\n",
    "for i in range(10,0,-1):\n",
    "    print(i)"
   ]
  },
  {
   "cell_type": "code",
   "execution_count": 3,
   "id": "87bbe7a9",
   "metadata": {},
   "outputs": [
    {
     "name": "stdout",
     "output_type": "stream",
     "text": [
      "Enter Number: 1324\n",
      "Method 1:  4\n",
      "Method 2  4\n"
     ]
    }
   ],
   "source": [
    "# digit count\n",
    "n=int(input(\"Enter Number: \"))\n",
    "d=len(str(n))\n",
    "print(\"Method 1: \",d)\n",
    "# method 2:\n",
    "count=0\n",
    "while n>0:\n",
    "    n=n//10\n",
    "    count+=1\n",
    "print(\"Method 2 \",count)"
   ]
  },
  {
   "cell_type": "code",
   "execution_count": null,
   "id": "f0ed83d2",
   "metadata": {},
   "outputs": [
    {
     "name": "stdout",
     "output_type": "stream",
     "text": [
      "Enter a Number: 4\n",
      "Not Prime\n"
     ]
    }
   ],
   "source": [
    "# Prime number check\n",
    "import math\n",
    "count=0\n",
    "n=int(input(\"Enter a Number: \"))\n",
    "if n<=1:\n",
    "    is_prime=False\n",
    "if n%2==0:\n",
    "    is_prime=False\n",
    "else:\n",
    "    is_prime=True\n",
    "    for i in range(2,int(math.sqrt(n))+1):\n",
    "        if n%i==0:\n",
    "            is_prime=False\n",
    "            break\n",
    "    else:\n",
    "        is_prime=True\n",
    "if is_prime:\n",
    "    print(\"Prime\")\n",
    "else:\n",
    "    print(\"Not Prime\")"
   ]
  },
  {
   "cell_type": "code",
   "execution_count": 20,
   "id": "c9ac7d14",
   "metadata": {},
   "outputs": [
    {
     "name": "stdout",
     "output_type": "stream",
     "text": [
      "Enetr a number: 6\n",
      "Perfect number.\n"
     ]
    }
   ],
   "source": [
    "#Perfect Number\n",
    "n=int(input(\"Enetr a number: \"))\n",
    "org=n\n",
    "s=0\n",
    "for i in range(1,n):\n",
    "    if n%i==0:\n",
    "        s=s+i\n",
    "if s==org:\n",
    "    print(\"Perfect number.\")\n",
    "else:\n",
    "    print(\"Not a perfect number.\")"
   ]
  },
  {
   "cell_type": "code",
   "execution_count": null,
   "id": "a1cfdaec",
   "metadata": {},
   "outputs": [],
   "source": []
  }
 ],
 "metadata": {
  "kernelspec": {
   "display_name": "Python 3 (ipykernel)",
   "language": "python",
   "name": "python3"
  },
  "language_info": {
   "codemirror_mode": {
    "name": "ipython",
    "version": 3
   },
   "file_extension": ".py",
   "mimetype": "text/x-python",
   "name": "python",
   "nbconvert_exporter": "python",
   "pygments_lexer": "ipython3",
   "version": "3.11.3"
  }
 },
 "nbformat": 4,
 "nbformat_minor": 5
}
