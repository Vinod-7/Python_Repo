{
 "cells": [
  {
   "cell_type": "code",
   "execution_count": 3,
   "id": "baf18872",
   "metadata": {},
   "outputs": [
    {
     "name": "stdout",
     "output_type": "stream",
     "text": [
      "Enter a number: 0\n",
      "zero\n"
     ]
    }
   ],
   "source": [
    "#positive or negative\n",
    "n=int(input(\"Enter a number: \"))\n",
    "if n>0:\n",
    "    print(f'{n} is positive')\n",
    "elif n==0:\n",
    "    print('zero')\n",
    "else:\n",
    "    print(f'{n} is negative number')"
   ]
  },
  {
   "cell_type": "code",
   "execution_count": 4,
   "id": "1290614f",
   "metadata": {},
   "outputs": [
    {
     "name": "stdout",
     "output_type": "stream",
     "text": [
      "Enter a number: 4\n",
      "4 is even\n"
     ]
    }
   ],
   "source": [
    "n=int(input(\"Enter a number: \"))\n",
    "if n%2==0:\n",
    "    print(f'{n} is even')\n",
    "else:\n",
    "    print(f'{n} is odd')"
   ]
  },
  {
   "cell_type": "code",
   "execution_count": 6,
   "id": "c6503e0d",
   "metadata": {},
   "outputs": [
    {
     "name": "stdout",
     "output_type": "stream",
     "text": [
      "Enter first number: 2\n",
      "Enter second number: 2\n",
      "Both are equal\n"
     ]
    }
   ],
   "source": [
    "a=int(input(\"Enter first number: \"))\n",
    "b=int(input(\"Enter second number: \"))\n",
    "if a>b:\n",
    "    print(f'{a} is greater than {b}')\n",
    "elif a<b:\n",
    "    print(f'{a} is less than {b}')\n",
    "else:\n",
    "    print(\"Both are equal\")"
   ]
  },
  {
   "cell_type": "code",
   "execution_count": 5,
   "id": "b7b297be",
   "metadata": {},
   "outputs": [
    {
     "name": "stdout",
     "output_type": "stream",
     "text": [
      "Enter first number: 1\n",
      "Enter second number: 2\n",
      "Enter third number: 2\n",
      "b & c is greater.\n"
     ]
    }
   ],
   "source": [
    "a=int(input(\"Enter first number: \"))\n",
    "b=int(input(\"Enter second number: \"))\n",
    "c=int(input(\"Enter third number: \"))\n",
    "if a>b and a>c:\n",
    "    print(f'{a} is greater.')\n",
    "elif b>a and b>c:\n",
    "    print(f'{b} is greater.')\n",
    "elif c>a and c>b:\n",
    "    print(f'{c} is greater.')\n",
    "elif a==b and a==c:\n",
    "    print(f'three numbers are equal.')\n",
    "elif a==b and b>c:\n",
    "    print(\"a and b are greater.\")\n",
    "elif b==c and a<b:\n",
    "    print(\"b & c is greater.\")"
   ]
  },
  {
   "cell_type": "code",
   "execution_count": 9,
   "id": "b26265b2",
   "metadata": {},
   "outputs": [
    {
     "name": "stdout",
     "output_type": "stream",
     "text": [
      "Enter age: 18\n",
      "Eligible for voting.\n"
     ]
    }
   ],
   "source": [
    "age=int(input(\"Enter age: \"))\n",
    "if age>=18:\n",
    "    print(\"Eligible for voting.\")\n",
    "else:\n",
    "    print(\"Not Eligible\")"
   ]
  },
  {
   "cell_type": "code",
   "execution_count": null,
   "id": "dfba8a20",
   "metadata": {},
   "outputs": [],
   "source": [
    "age=int(input(\"Enter age: \"))\n",
    "if age>=60:\n",
    "    print(\"Seniour citizen.\")\n",
    "else:\n",
    "    print(\"Not a Seniour citizen.\")"
   ]
  },
  {
   "cell_type": "code",
   "execution_count": 1,
   "id": "d102a8df",
   "metadata": {},
   "outputs": [
    {
     "name": "stdout",
     "output_type": "stream",
     "text": [
      "Enter marks: 43\n",
      "Fail\n"
     ]
    }
   ],
   "source": [
    "# 6. Write a program to assign grades to a student based on marks:\n",
    "# o\tMarks ≥ 90 → A\n",
    "# o\tMarks ≥ 75 → B\n",
    "# o\tMarks ≥ 50 → C\n",
    "# o\tOtherwise → Fail\n",
    "marks=int(input(\"Enter marks: \"))\n",
    "if marks>=90:\n",
    "    print(\"Grade is : A\")\n",
    "elif marks>=75:\n",
    "    print(\"Grade is : B\")\n",
    "elif marks>=50:\n",
    "    print(\"Grade is : C\")\n",
    "else:\n",
    "    print(\"Fail\")"
   ]
  },
  {
   "cell_type": "code",
   "execution_count": 2,
   "id": "4e563330",
   "metadata": {},
   "outputs": [
    {
     "name": "stdout",
     "output_type": "stream",
     "text": [
      "Enter a Character: i\n",
      "i is vowel.\n"
     ]
    }
   ],
   "source": [
    "# 7. Write a program to check whether a character is a vowel or consonant.\n",
    "char=input(\"Enter a Character: \")\n",
    "# if (char=='a' or char=='e' or char=='i' or char=='o'or char=='u') or (char=='A' or char=='E' or char=='I' or char=='O'or char=='U'):\n",
    "if char in \"aeiouAEIOU\":\n",
    "    print(f\"{char} is vowel.\")\n",
    "else:\n",
    "    print(\"Consonant\")"
   ]
  },
  {
   "cell_type": "code",
   "execution_count": 18,
   "id": "03b27cce",
   "metadata": {},
   "outputs": [
    {
     "name": "stdout",
     "output_type": "stream",
     "text": [
      "Enter a number: 45\n",
      "Number is divisible by 3 and 5.\n"
     ]
    }
   ],
   "source": [
    "# 8. Write a program to check whether a number is a multiple of 3 and 5.\n",
    "n=int(input(\"Enter a number: \"))\n",
    "if n%3==0 and n%5==0:\n",
    "    print(\"Number is divisible by 3 and 5.\")\n",
    "else:\n",
    "    print(\"Not Divisible.\")"
   ]
  },
  {
   "cell_type": "code",
   "execution_count": 12,
   "id": "eba8c8fb",
   "metadata": {},
   "outputs": [
    {
     "name": "stdout",
     "output_type": "stream",
     "text": [
      "Enter the character: 90$\n",
      "Special symbol\n"
     ]
    }
   ],
   "source": [
    "# 9)Write a program to check whether a given character is uppercase, lowercase, digit, or special symbol.\n",
    "ch=input(\"Enter the character: \")\n",
    "if ch.islower():\n",
    "    print(\"Lowercase\")\n",
    "elif ch.isupper():\n",
    "    print(\"Uppercase\")\n",
    "elif ch.isdigit():\n",
    "    print(\"Digit\")\n",
    "else:\n",
    "    print(\"Special symbol\")\n",
    "    "
   ]
  },
  {
   "cell_type": "code",
   "execution_count": 9,
   "id": "faa69de9",
   "metadata": {},
   "outputs": [
    {
     "name": "stdout",
     "output_type": "stream",
     "text": [
      "Enter Number: 0\n",
      "0 is divisible by 7.\n"
     ]
    }
   ],
   "source": [
    "#  Write a program to check whether a number is divisible by 7 or not.\n",
    "n=int(input(\"Enter Number: \"))\n",
    "if n%7==0:\n",
    "    print(f\"{n} is divisible by 7.\")\n",
    "else:\n",
    "    print(f\"{n} is not divisible by 7.\")"
   ]
  },
  {
   "cell_type": "code",
   "execution_count": null,
   "id": "3d9181db",
   "metadata": {},
   "outputs": [
    {
     "name": "stdout",
     "output_type": "stream",
     "text": [
      "yeah\n"
     ]
    }
   ],
   "source": [
    "n=\"vinod\"\n",
    "if n in [\"vinod\",\"sai\",\"dheirajj\",\"deepak\"]:\n",
    "    print(\"yeah\")\n",
    "else:\n",
    "    print(\"ledhu\")"
   ]
  },
  {
   "cell_type": "code",
   "execution_count": 1,
   "id": "6a7915bf",
   "metadata": {},
   "outputs": [
    {
     "name": "stdout",
     "output_type": "stream",
     "text": [
      "Enter value of a: 3\n",
      "Enter value of b: 4\n",
      "Enter an Operator from + - * / // ** : -\n",
      "sub is  -1\n"
     ]
    }
   ],
   "source": [
    "a=int(input(\"Enter value of a: \"))\n",
    "b=int(input(\"Enter value of b: \"))\n",
    "n=input(\"Enter an Operator from + - * / // ** : \")\n",
    "if n=='+':\n",
    "    print(\"sum is :\",a+b)\n",
    "elif n=='-':\n",
    "    print(\"sub is \",a-b)\n",
    "elif n=='*':\n",
    "    print(\"mul is \",a*b)\n",
    "elif n=='/':\n",
    "    print(\"integer division: \",a/b)\n",
    "elif n=='//':\n",
    "    print(\"Floor Division: \",a//b)\n",
    "elif n=='**':\n",
    "    print(\"Exponential: \",a**b)\n",
    "else:\n",
    "    print(\"Invalid\")"
   ]
  },
  {
   "cell_type": "code",
   "execution_count": 2,
   "id": "18ad3d77",
   "metadata": {},
   "outputs": [
    {
     "name": "stdout",
     "output_type": "stream",
     "text": [
      "m1 : 35\n",
      "m2 : 34\n",
      "m3 : 36\n",
      "Fail\n"
     ]
    }
   ],
   "source": [
    "p1=int(input(\"m1 : \"))\n",
    "p1=int(input(\"m2 : \"))\n",
    "p3=int(input(\"m3 : \"))\n",
    "if p1>=35 and p2>=35 and p3>=35:\n",
    "    print(\"pass\")\n",
    "else:\n",
    "    print(\"Fail\")"
   ]
  },
  {
   "cell_type": "code",
   "execution_count": 4,
   "id": "5a5b5407",
   "metadata": {},
   "outputs": [
    {
     "name": "stdout",
     "output_type": "stream",
     "text": [
      "Entar a number: 200\n",
      "no bro\n"
     ]
    }
   ],
   "source": [
    "n=int(input(\"Entar a number: \"))\n",
    "if n>=1 and n<=100:\n",
    "    print(f\"{n} in range of 100\")\n",
    "else:\n",
    "    print(\"no bro\")"
   ]
  },
  {
   "cell_type": "code",
   "execution_count": 7,
   "id": "948fcb3e",
   "metadata": {},
   "outputs": [
    {
     "name": "stdout",
     "output_type": "stream",
     "text": [
      "Enter salary: 40404040\n",
      "pay tax of 30%  12046212.0\n"
     ]
    }
   ],
   "source": [
    "sal=int(input(\"Enter salary: \"))\n",
    "if sal<=250000:\n",
    "    print(\"No Tax\")\n",
    "elif sal<=500000:\n",
    "    a=sal-250000\n",
    "    tax=a*5/100\n",
    "    print(\"pay tax 5% \",tax)\n",
    "elif sal<=1000000:\n",
    "    a=sal-250000\n",
    "    tax=a*20/100\n",
    "    print(\" pay tax 20 % : \",tax)\n",
    "elif sal>100000:\n",
    "    a=sal-250000\n",
    "    tax=a*30/100\n",
    "    print(\"pay tax of 30% \",tax)"
   ]
  },
  {
   "cell_type": "code",
   "execution_count": 2,
   "id": "8dd1e94c",
   "metadata": {},
   "outputs": [],
   "source": [
    "# 1). A company gives a discount based on purchase amount:\n",
    "# If purchase amount > 5000 → 20% discount\n",
    "# If purchase amount between 2000–5000 → 10% discount\n",
    "# Otherwise → No discount\n"
   ]
  },
  {
   "cell_type": "code",
   "execution_count": null,
   "id": "7f44162c",
   "metadata": {},
   "outputs": [],
   "source": [
    "n=int(input(\"Enter number: \"))\n",
    "if n>0:\n",
    "    d1=n//500\n",
    "    print(d1,\" 500 notes\")\n",
    "    n%=200\n",
    "if n>0:\n",
    "    d2=n//200\n",
    "    print(d2,\" 200 notes\")\n",
    "    n%=100\n",
    "if n>0:\n",
    "    d3=n//100\n",
    "    print(d3,\" 100 notes\")\n",
    "    n%=50\n",
    "if n>0:\n",
    "    d4=n//50\n",
    "    print(d4,\" 50 notes\")\n",
    "    n%=20\n",
    "if n>0:\n",
    "    d5=n//20\n",
    "    print(d5,\" 20 notes\")\n",
    "\n",
    "    "
   ]
  }
 ],
 "metadata": {
  "kernelspec": {
   "display_name": "Python 3",
   "language": "python",
   "name": "python3"
  },
  "language_info": {
   "codemirror_mode": {
    "name": "ipython",
    "version": 3
   },
   "file_extension": ".py",
   "mimetype": "text/x-python",
   "name": "python",
   "nbconvert_exporter": "python",
   "pygments_lexer": "ipython3",
   "version": "3.13.7"
  }
 },
 "nbformat": 4,
 "nbformat_minor": 5
}
